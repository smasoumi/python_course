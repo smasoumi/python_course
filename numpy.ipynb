{
 "cells": [
  {
   "cell_type": "code",
   "id": "initial_id",
   "metadata": {
    "collapsed": true,
    "ExecuteTime": {
     "end_time": "2024-07-11T15:02:20.311947Z",
     "start_time": "2024-07-11T15:02:20.305541Z"
    }
   },
   "source": "import numpy as np",
   "outputs": [],
   "execution_count": 9
  },
  {
   "metadata": {
    "ExecuteTime": {
     "end_time": "2024-07-11T15:13:31.517535Z",
     "start_time": "2024-07-11T15:13:31.501626Z"
    }
   },
   "cell_type": "code",
   "source": [
    "a = np.array([[1, 2, 3], [4, 5, 6], [7, 8, 9]])\n",
    "a"
   ],
   "id": "68443b1633b8bc00",
   "outputs": [
    {
     "data": {
      "text/plain": [
       "array([[1, 2, 3],\n",
       "       [4, 5, 6],\n",
       "       [7, 8, 9]])"
      ]
     },
     "execution_count": 31,
     "metadata": {},
     "output_type": "execute_result"
    }
   ],
   "execution_count": 31
  },
  {
   "metadata": {},
   "cell_type": "markdown",
   "source": "# access to rows",
   "id": "f14113dccb2745cb"
  },
  {
   "metadata": {
    "ExecuteTime": {
     "end_time": "2024-07-11T15:13:38.070869Z",
     "start_time": "2024-07-11T15:13:38.064632Z"
    }
   },
   "cell_type": "code",
   "source": [
    "for x in a:\n",
    "    print(x)"
   ],
   "id": "ac72084988633538",
   "outputs": [
    {
     "name": "stdout",
     "output_type": "stream",
     "text": [
      "[1 2 3]\n",
      "[4 5 6]\n",
      "[7 8 9]\n"
     ]
    }
   ],
   "execution_count": 32
  },
  {
   "metadata": {},
   "cell_type": "markdown",
   "source": "# access to cells",
   "id": "22e4d771806646dd"
  },
  {
   "metadata": {},
   "cell_type": "markdown",
   "source": "## row order",
   "id": "a1749beee779ef37"
  },
  {
   "metadata": {
    "ExecuteTime": {
     "end_time": "2024-07-11T15:13:47.949739Z",
     "start_time": "2024-07-11T15:13:47.943557Z"
    }
   },
   "cell_type": "code",
   "source": [
    "for x in a.flat:\n",
    "    print(x)\n"
   ],
   "id": "e06a19b40e9ba046",
   "outputs": [
    {
     "name": "stdout",
     "output_type": "stream",
     "text": [
      "1\n",
      "2\n",
      "3\n",
      "4\n",
      "5\n",
      "6\n",
      "7\n",
      "8\n",
      "9\n"
     ]
    }
   ],
   "execution_count": 33
  },
  {
   "metadata": {
    "ExecuteTime": {
     "end_time": "2024-07-11T15:13:57.391390Z",
     "start_time": "2024-07-11T15:13:57.384965Z"
    }
   },
   "cell_type": "code",
   "source": "a.flatten()",
   "id": "28279ee543f06d16",
   "outputs": [
    {
     "data": {
      "text/plain": [
       "array([1, 2, 3, 4, 5, 6, 7, 8, 9])"
      ]
     },
     "execution_count": 34,
     "metadata": {},
     "output_type": "execute_result"
    }
   ],
   "execution_count": 34
  },
  {
   "metadata": {},
   "cell_type": "markdown",
   "source": "C order: row-based order is the default ordering",
   "id": "1958f79a4c46c997"
  },
  {
   "metadata": {
    "ExecuteTime": {
     "end_time": "2024-07-11T15:18:25.542111Z",
     "start_time": "2024-07-11T15:18:25.534249Z"
    }
   },
   "cell_type": "code",
   "source": [
    "for x in np.nditer(a, order='C'):\n",
    "    print(x)"
   ],
   "id": "60aeb4dfd9e4a4b2",
   "outputs": [
    {
     "name": "stdout",
     "output_type": "stream",
     "text": [
      "1\n",
      "2\n",
      "3\n",
      "4\n",
      "5\n",
      "6\n",
      "7\n",
      "8\n",
      "9\n"
     ]
    }
   ],
   "execution_count": 37
  },
  {
   "metadata": {},
   "cell_type": "markdown",
   "source": [
    "\n",
    "## column order"
   ],
   "id": "55dd16f1acb04c15"
  },
  {
   "metadata": {},
   "cell_type": "markdown",
   "source": "Fortran order: column based order",
   "id": "a6bec2dbcc05ac48"
  },
  {
   "metadata": {
    "ExecuteTime": {
     "end_time": "2024-07-11T15:18:38.322342Z",
     "start_time": "2024-07-11T15:18:38.312592Z"
    }
   },
   "cell_type": "code",
   "source": [
    "for x in np.nditer(a, order='F'):\n",
    "    print(x)"
   ],
   "id": "1b696e2a6ca05274",
   "outputs": [
    {
     "name": "stdout",
     "output_type": "stream",
     "text": [
      "1\n",
      "4\n",
      "7\n",
      "2\n",
      "5\n",
      "8\n",
      "3\n",
      "6\n",
      "9\n"
     ]
    }
   ],
   "execution_count": 38
  },
  {
   "metadata": {},
   "cell_type": "markdown",
   "source": "# split matrix horizontally and vertically",
   "id": "698ffcc33c7f001f"
  },
  {
   "metadata": {
    "ExecuteTime": {
     "end_time": "2024-07-11T15:03:35.306448Z",
     "start_time": "2024-07-11T15:03:35.298183Z"
    }
   },
   "cell_type": "code",
   "source": [
    "a = np.arange(30).reshape(2,15)\n",
    "a"
   ],
   "id": "cd59b213d7641b7a",
   "outputs": [
    {
     "data": {
      "text/plain": [
       "array([[ 0,  1,  2,  3,  4,  5,  6,  7,  8,  9, 10, 11, 12, 13, 14],\n",
       "       [15, 16, 17, 18, 19, 20, 21, 22, 23, 24, 25, 26, 27, 28, 29]])"
      ]
     },
     "execution_count": 14,
     "metadata": {},
     "output_type": "execute_result"
    }
   ],
   "execution_count": 14
  },
  {
   "metadata": {
    "ExecuteTime": {
     "end_time": "2024-07-11T15:04:11.719608Z",
     "start_time": "2024-07-11T15:04:11.712293Z"
    }
   },
   "cell_type": "code",
   "source": "np.vsplit(a, 2)",
   "id": "51938d4e27abd9a0",
   "outputs": [
    {
     "data": {
      "text/plain": [
       "[array([[ 0,  1,  2,  3,  4,  5,  6,  7,  8,  9, 10, 11, 12, 13, 14]]),\n",
       " array([[15, 16, 17, 18, 19, 20, 21, 22, 23, 24, 25, 26, 27, 28, 29]])]"
      ]
     },
     "execution_count": 15,
     "metadata": {},
     "output_type": "execute_result"
    }
   ],
   "execution_count": 15
  },
  {
   "metadata": {
    "ExecuteTime": {
     "end_time": "2024-07-11T15:04:48.255384Z",
     "start_time": "2024-07-11T15:04:48.241725Z"
    }
   },
   "cell_type": "code",
   "source": "np.hsplit(a, 3)",
   "id": "30d785a7d36413f2",
   "outputs": [
    {
     "data": {
      "text/plain": [
       "[array([[ 0,  1,  2,  3,  4],\n",
       "        [15, 16, 17, 18, 19]]),\n",
       " array([[ 5,  6,  7,  8,  9],\n",
       "        [20, 21, 22, 23, 24]]),\n",
       " array([[10, 11, 12, 13, 14],\n",
       "        [25, 26, 27, 28, 29]])]"
      ]
     },
     "execution_count": 16,
     "metadata": {},
     "output_type": "execute_result"
    }
   ],
   "execution_count": 16
  },
  {
   "metadata": {},
   "cell_type": "markdown",
   "source": "# indexing with boolean arrays",
   "id": "ca249ea70cb37f62"
  },
  {
   "metadata": {
    "ExecuteTime": {
     "end_time": "2024-07-11T15:07:44.205519Z",
     "start_time": "2024-07-11T15:07:44.193533Z"
    }
   },
   "cell_type": "code",
   "source": [
    "a = np.arange(12).reshape(3,4)\n",
    "a"
   ],
   "id": "c5ac4d4612c68c07",
   "outputs": [
    {
     "data": {
      "text/plain": [
       "array([[ 0,  1,  2,  3],\n",
       "       [ 4,  5,  6,  7],\n",
       "       [ 8,  9, 10, 11]])"
      ]
     },
     "execution_count": 17,
     "metadata": {},
     "output_type": "execute_result"
    }
   ],
   "execution_count": 17
  },
  {
   "metadata": {
    "ExecuteTime": {
     "end_time": "2024-07-11T15:07:54.087553Z",
     "start_time": "2024-07-11T15:07:54.075621Z"
    }
   },
   "cell_type": "code",
   "source": [
    "b = a > 4\n",
    "b"
   ],
   "id": "ce133e5f7aa237d7",
   "outputs": [
    {
     "data": {
      "text/plain": [
       "array([[False, False, False, False],\n",
       "       [False,  True,  True,  True],\n",
       "       [ True,  True,  True,  True]])"
      ]
     },
     "execution_count": 18,
     "metadata": {},
     "output_type": "execute_result"
    }
   ],
   "execution_count": 18
  },
  {
   "metadata": {
    "ExecuteTime": {
     "end_time": "2024-07-11T15:08:00.239354Z",
     "start_time": "2024-07-11T15:08:00.230241Z"
    }
   },
   "cell_type": "code",
   "source": "a[b]",
   "id": "700c915df0c786e5",
   "outputs": [
    {
     "data": {
      "text/plain": [
       "array([ 5,  6,  7,  8,  9, 10, 11])"
      ]
     },
     "execution_count": 19,
     "metadata": {},
     "output_type": "execute_result"
    }
   ],
   "execution_count": 19
  },
  {
   "metadata": {
    "ExecuteTime": {
     "end_time": "2024-07-11T15:08:31.897001Z",
     "start_time": "2024-07-11T15:08:31.889367Z"
    }
   },
   "cell_type": "code",
   "source": "a[a>=10]",
   "id": "f14a8eb1413087df",
   "outputs": [
    {
     "data": {
      "text/plain": [
       "array([10, 11])"
      ]
     },
     "execution_count": 21,
     "metadata": {},
     "output_type": "execute_result"
    }
   ],
   "execution_count": 21
  },
  {
   "metadata": {},
   "cell_type": "markdown",
   "source": "# replace numbers greater than or equal to 10 with -1",
   "id": "d53ee039a278cbbd"
  },
  {
   "metadata": {
    "ExecuteTime": {
     "end_time": "2024-07-11T15:11:48.296662Z",
     "start_time": "2024-07-11T15:11:48.287599Z"
    }
   },
   "cell_type": "code",
   "source": [
    "a = np.arange(12).reshape(3, 4)\n",
    "a"
   ],
   "id": "c14fbf6efe988f3c",
   "outputs": [
    {
     "data": {
      "text/plain": [
       "array([[ 0,  1,  2,  3],\n",
       "       [ 4,  5,  6,  7],\n",
       "       [ 8,  9, 10, 11]])"
      ]
     },
     "execution_count": 28,
     "metadata": {},
     "output_type": "execute_result"
    }
   ],
   "execution_count": 28
  },
  {
   "metadata": {
    "ExecuteTime": {
     "end_time": "2024-07-11T15:12:02.866235Z",
     "start_time": "2024-07-11T15:12:02.861034Z"
    }
   },
   "cell_type": "code",
   "source": " a[a>=10] = -1",
   "id": "6b4fb07b73e25c05",
   "outputs": [],
   "execution_count": 29
  },
  {
   "metadata": {
    "ExecuteTime": {
     "end_time": "2024-07-11T15:12:03.415852Z",
     "start_time": "2024-07-11T15:12:03.412171Z"
    }
   },
   "cell_type": "code",
   "source": "a",
   "id": "2d42117ab234641f",
   "outputs": [
    {
     "data": {
      "text/plain": [
       "array([[ 0,  1,  2,  3],\n",
       "       [ 4,  5,  6,  7],\n",
       "       [ 8,  9, -1, -1]])"
      ]
     },
     "execution_count": 30,
     "metadata": {},
     "output_type": "execute_result"
    }
   ],
   "execution_count": 30
  },
  {
   "metadata": {
    "ExecuteTime": {
     "end_time": "2024-07-11T15:38:27.762069Z",
     "start_time": "2024-07-11T15:38:27.755304Z"
    }
   },
   "cell_type": "code",
   "source": "a",
   "id": "e644fc6b2dc7ea4a",
   "outputs": [
    {
     "data": {
      "text/plain": [
       "array([[1, 2, 3],\n",
       "       [4, 5, 6],\n",
       "       [7, 8, 9]])"
      ]
     },
     "execution_count": 40,
     "metadata": {},
     "output_type": "execute_result"
    }
   ],
   "execution_count": 40
  },
  {
   "metadata": {
    "ExecuteTime": {
     "end_time": "2024-07-11T15:38:12.932970Z",
     "start_time": "2024-07-11T15:38:12.890824Z"
    }
   },
   "cell_type": "code",
   "source": "a*a",
   "id": "619c49e2933731a2",
   "outputs": [
    {
     "data": {
      "text/plain": [
       "array([[ 1,  4,  9],\n",
       "       [16, 25, 36],\n",
       "       [49, 64, 81]])"
      ]
     },
     "execution_count": 39,
     "metadata": {},
     "output_type": "execute_result"
    }
   ],
   "execution_count": 39
  },
  {
   "metadata": {},
   "cell_type": "code",
   "outputs": [],
   "execution_count": null,
   "source": "",
   "id": "5f378673b95493a8"
  }
 ],
 "metadata": {
  "kernelspec": {
   "display_name": "Python 3",
   "language": "python",
   "name": "python3"
  },
  "language_info": {
   "codemirror_mode": {
    "name": "ipython",
    "version": 2
   },
   "file_extension": ".py",
   "mimetype": "text/x-python",
   "name": "python",
   "nbconvert_exporter": "python",
   "pygments_lexer": "ipython2",
   "version": "2.7.6"
  }
 },
 "nbformat": 4,
 "nbformat_minor": 5
}
