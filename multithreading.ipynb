{
 "cells": [
  {
   "cell_type": "code",
   "execution_count": 5,
   "metadata": {},
   "outputs": [
    {
     "name": "stdout",
     "output_type": "stream",
     "text": [
      "calculate square of numbers\n",
      "square: 4\n",
      "square: 9\n",
      "square: 64\n",
      "square: 81\n",
      "calculate cube of numbers\n",
      "cube: 8\n",
      "cube: 27\n",
      "cube: 512\n",
      "cube: 729\n",
      "done!  1.6163289546966553 s\n"
     ]
    }
   ],
   "source": [
    "import time\n",
    "\n",
    "def calc_square(numbers):\n",
    "    print('calculate square of numbers')\n",
    "    for n in numbers:\n",
    "        time.sleep(0.2)\n",
    "        print('square:', n*n)\n",
    "\n",
    "def calc_cube(numbers):\n",
    "    print('calculate cube of numbers')\n",
    "    for n in numbers:\n",
    "        time.sleep(0.2)\n",
    "        print('cube:', n*n*n)\n",
    "\n",
    "numbers= [2,3,8,9]\n",
    "\n",
    "t= time.time()\n",
    "\n",
    "calc_square(numbers)\n",
    "calc_cube(numbers)\n",
    "\n",
    "print('done! ', (time.time()-t), 's')\n"
   ]
  },
  {
   "cell_type": "code",
   "execution_count": 7,
   "metadata": {},
   "outputs": [
    {
     "name": "stdout",
     "output_type": "stream",
     "text": [
      "calculate square of numbers\n",
      "calculate cube of numbers\n",
      "square: 4\n",
      "cube: 8\n",
      "square: 9\n",
      "cube: 27\n",
      "square: 64\n",
      "cube: 512\n",
      "square: 81\n",
      "cube: 729\n",
      "done!  0.8211789131164551 s\n"
     ]
    }
   ],
   "source": [
    "import time\n",
    "import threading\n",
    "\n",
    "def calc_square(numbers):\n",
    "    print('calculate square of numbers')\n",
    "    for n in numbers:\n",
    "        time.sleep(0.2)\n",
    "        print('square:', n*n)\n",
    "\n",
    "def calc_cube(numbers):\n",
    "    print('calculate cube of numbers')\n",
    "    for n in numbers:\n",
    "        time.sleep(0.2)\n",
    "        print('cube:', n*n*n)\n",
    "\n",
    "numbers= [2,3,8,9]\n",
    "\n",
    "t = time.time()\n",
    "\n",
    "t1 = threading.Thread(target=calc_square, args=(numbers,))\n",
    "t2 = threading.Thread(target=calc_cube, args=(numbers,))\n",
    "t1.start()\n",
    "t2.start()\n",
    "\n",
    "t1.join()\n",
    "t2.join()\n",
    "\n",
    "print('done! ', (time.time()-t), 's')\n"
   ]
  }
 ],
 "metadata": {
  "kernelspec": {
   "display_name": "pytorch",
   "language": "python",
   "name": "python3"
  },
  "language_info": {
   "codemirror_mode": {
    "name": "ipython",
    "version": 3
   },
   "file_extension": ".py",
   "mimetype": "text/x-python",
   "name": "python",
   "nbconvert_exporter": "python",
   "pygments_lexer": "ipython3",
   "version": "3.12.3"
  }
 },
 "nbformat": 4,
 "nbformat_minor": 2
}
