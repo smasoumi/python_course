{
 "cells": [
  {
   "cell_type": "markdown",
   "metadata": {},
   "source": [
    "Decorators allow you to make simple modifications to callable objects like functions, methods, or classes. "
   ]
  },
  {
   "cell_type": "markdown",
   "metadata": {},
   "source": [
    "Add timing functionality to functions using decorator"
   ]
  },
  {
   "cell_type": "code",
   "execution_count": 1,
   "metadata": {},
   "outputs": [
    {
     "name": "stdout",
     "output_type": "stream",
     "text": [
      "The execution time of square is 3.844022750854492 milisecond\n",
      "The execution time of cube is 6.138801574707031 milisecond\n"
     ]
    }
   ],
   "source": [
    "import time\n",
    "def time_it(func):\n",
    "    def wrapper(*args, **kwargs):\n",
    "        start = time.time()\n",
    "        result = func(*args, **kwargs)\n",
    "        end = time.time()\n",
    "        print(\"The execution time of %s is %s milisecond\" %(func.__name__, (end-start)*1000))\n",
    "        return result\n",
    "    return wrapper\n",
    "\n",
    "@time_it\n",
    "def square(n):\n",
    "    return [x*x for x in n]\n",
    "        \n",
    "@time_it\n",
    "def cube(n):\n",
    "    return [x*x*x for x in n]\n",
    "\n",
    "numbers = range(1,100000)\n",
    "s = square(numbers)\n",
    "c = cube(numbers)"
   ]
  },
  {
   "cell_type": "markdown",
   "metadata": {},
   "source": [
    "## another example"
   ]
  },
  {
   "cell_type": "code",
   "execution_count": 2,
   "metadata": {},
   "outputs": [],
   "source": [
    "def repeater(old_function):\n",
    "    def new_function(*args, **kwds): # See Multiple_Function_Arguments for how *args and **kwds works\n",
    "        old_function(*args, **kwds) # we run the old function\n",
    "        old_function(*args, **kwds) # we do it twice\n",
    "    return new_function # we have to return the new_function, or it wouldn't reassign it to the value"
   ]
  },
  {
   "cell_type": "code",
   "execution_count": 3,
   "metadata": {},
   "outputs": [],
   "source": [
    "def multiply(n1 , n2):\n",
    "    print(n1 * n2)"
   ]
  },
  {
   "cell_type": "code",
   "execution_count": 4,
   "metadata": {},
   "outputs": [
    {
     "name": "stdout",
     "output_type": "stream",
     "text": [
      "6\n"
     ]
    }
   ],
   "source": [
    "multiply(2,3)"
   ]
  },
  {
   "cell_type": "markdown",
   "metadata": {},
   "source": [
    "This would make a function repeat twice by:"
   ]
  },
  {
   "cell_type": "code",
   "execution_count": 5,
   "metadata": {},
   "outputs": [
    {
     "name": "stdout",
     "output_type": "stream",
     "text": [
      "6\n",
      "6\n"
     ]
    }
   ],
   "source": [
    "repeater(multiply)(2,3)"
   ]
  },
  {
   "cell_type": "markdown",
   "metadata": {},
   "source": [
    "Or"
   ]
  },
  {
   "cell_type": "code",
   "execution_count": 6,
   "metadata": {},
   "outputs": [
    {
     "name": "stdout",
     "output_type": "stream",
     "text": [
      "6\n",
      "6\n"
     ]
    }
   ],
   "source": [
    "f1 = repeater(multiply)\n",
    "f1(2,3)"
   ]
  },
  {
   "cell_type": "markdown",
   "metadata": {},
   "source": [
    "a decorator is just another function which takes a functions and returns one"
   ]
  },
  {
   "cell_type": "code",
   "execution_count": 7,
   "metadata": {},
   "outputs": [],
   "source": [
    "@repeater\n",
    "def multiply(n1 , n2):\n",
    "    print(n1 * n2)"
   ]
  },
  {
   "cell_type": "code",
   "execution_count": 8,
   "metadata": {},
   "outputs": [
    {
     "name": "stdout",
     "output_type": "stream",
     "text": [
      "6\n",
      "6\n"
     ]
    }
   ],
   "source": [
    "multiply(2,3)"
   ]
  },
  {
   "cell_type": "markdown",
   "metadata": {},
   "source": [
    "You can also make it change the output"
   ]
  },
  {
   "cell_type": "code",
   "execution_count": 9,
   "metadata": {},
   "outputs": [],
   "source": [
    "def double_out(old_function):\n",
    "\n",
    "    def new_function(*args, **kwds):\n",
    "        return 2 * old_function(*args, **kwds) # modify the return value\n",
    "    \n",
    "    return new_function"
   ]
  },
  {
   "cell_type": "markdown",
   "metadata": {},
   "source": [
    "change input"
   ]
  },
  {
   "cell_type": "code",
   "execution_count": 10,
   "metadata": {},
   "outputs": [],
   "source": [
    "def double_Ii(old_function):\n",
    "\n",
    "    def new_function(arg): # only works if the old function has one argument\n",
    "        return old_function(arg * 2) # modify the argument passed\n",
    "    \n",
    "    return new_function"
   ]
  },
  {
   "cell_type": "markdown",
   "metadata": {},
   "source": [
    "and do checking."
   ]
  },
  {
   "cell_type": "code",
   "execution_count": 11,
   "metadata": {},
   "outputs": [],
   "source": [
    "def check(old_function):\n",
    "\n",
    "    def new_function(arg):\n",
    "        if arg < 0: \n",
    "            raise (ValueError, \"Negative Argument\") # This causes an error, which is better than doing the wrong thing\n",
    "        old_function(arg)\n",
    "    \n",
    "    return new_function"
   ]
  },
  {
   "cell_type": "markdown",
   "metadata": {},
   "source": [
    "Let's say you want to multiply the output by a variable amount. You could define the decorator and use it as follows:"
   ]
  },
  {
   "cell_type": "code",
   "execution_count": 12,
   "metadata": {},
   "outputs": [
    {
     "data": {
      "text/plain": [
       "15"
      ]
     },
     "execution_count": 12,
     "metadata": {},
     "output_type": "execute_result"
    }
   ],
   "source": [
    "def multiply(multiplier):\n",
    "\n",
    "    def multiply_generator(old_function):\n",
    "\n",
    "        def new_function(*args, **kwds):\n",
    "            return multiplier * old_function(*args, **kwds)\n",
    "        \n",
    "        return new_function\n",
    "    \n",
    "    return multiply_generator # it returns the new generator\n",
    "\n",
    "# Usage\n",
    "@multiply(3) # multiply is not a generator, but multiply(3) is\n",
    "def return_num(num):\n",
    "    return num\n",
    "\n",
    "# Now return_num is decorated and reassigned into itself\n",
    "return_num(5) # should return 15"
   ]
  },
  {
   "cell_type": "markdown",
   "metadata": {},
   "source": [
    "A decorator has to return a function. otherwise, you cannot use it as a decorator with @"
   ]
  },
  {
   "cell_type": "code",
   "execution_count": 13,
   "metadata": {},
   "outputs": [
    {
     "name": "stdout",
     "output_type": "stream",
     "text": [
      "12\n"
     ]
    }
   ],
   "source": [
    "def zarb(n):\n",
    "    def zarb_generator(old_f):\n",
    "        def new_f(*args, **kwds):\n",
    "            return n * old_f(*args, **kwds)\n",
    "        return new_f\n",
    "    return zarb_generator\n",
    "\n",
    "@zarb(3)\n",
    "def f3(n):\n",
    "    return n\n",
    "\n",
    "print(f3(4))"
   ]
  },
  {
   "cell_type": "markdown",
   "metadata": {},
   "source": [
    "Example: a type-checker decorator"
   ]
  },
  {
   "cell_type": "code",
   "execution_count": 14,
   "metadata": {},
   "outputs": [
    {
     "name": "stdout",
     "output_type": "stream",
     "text": [
      "4\n",
      "Bad Type\n",
      "H\n",
      "Bad Type\n"
     ]
    }
   ],
   "source": [
    "def type_check(correct_type):\n",
    "    def check(old_function):\n",
    "        def new_function(arg):\n",
    "            if (isinstance(arg, correct_type)):\n",
    "                return old_function(arg)\n",
    "            else:\n",
    "                print(\"Bad Type\")\n",
    "        return new_function\n",
    "    return check\n",
    "\n",
    "@type_check(int)\n",
    "def times2(num):\n",
    "    return num*2\n",
    "\n",
    "print(times2(2))\n",
    "times2('Not A Number')\n",
    "\n",
    "@type_check(str)\n",
    "def first_letter(word):\n",
    "    return word[0]\n",
    "\n",
    "print(first_letter('Hello World'))\n",
    "first_letter(['Not', 'A', 'String'])"
   ]
  }
 ],
 "metadata": {
  "kernelspec": {
   "display_name": "pytorch",
   "language": "python",
   "name": "python3"
  },
  "language_info": {
   "codemirror_mode": {
    "name": "ipython",
    "version": 3
   },
   "file_extension": ".py",
   "mimetype": "text/x-python",
   "name": "python",
   "nbconvert_exporter": "python",
   "pygments_lexer": "ipython3",
   "version": "3.12.3"
  }
 },
 "nbformat": 4,
 "nbformat_minor": 2
}
