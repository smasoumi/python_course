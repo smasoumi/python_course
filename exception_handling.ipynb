{
 "cells": [
  {
   "cell_type": "code",
   "execution_count": 5,
   "metadata": {},
   "outputs": [
    {
     "name": "stdout",
     "output_type": "stream",
     "text": [
      "All exceptions caught! Good job!\n",
      "The actor's last name is Cleese\n"
     ]
    }
   ],
   "source": [
    "# Setup\n",
    "actor = {\"name\": \"John Cleese\", \"rank\": \"awesome\"}\n",
    "\n",
    "# Function to modify!!!\n",
    "def get_last_name(): \n",
    "    try:\n",
    "        return actor[\"lastName\"]\n",
    "    except KeyError:\n",
    "        return actor[\"name\"].split()[1]\n",
    "\n",
    "# Test code\n",
    "get_last_name()\n",
    "print(\"All exceptions caught! Good job!\")\n",
    "print(\"The actor's last name is %s\" % get_last_name())"
   ]
  },
  {
   "cell_type": "code",
   "execution_count": null,
   "metadata": {},
   "outputs": [],
   "source": []
  }
 ],
 "metadata": {
  "kernelspec": {
   "display_name": "pytorch",
   "language": "python",
   "name": "python3"
  },
  "language_info": {
   "codemirror_mode": {
    "name": "ipython",
    "version": 3
   },
   "file_extension": ".py",
   "mimetype": "text/x-python",
   "name": "python",
   "nbconvert_exporter": "python",
   "pygments_lexer": "ipython3",
   "version": "3.12.3"
  }
 },
 "nbformat": 4,
 "nbformat_minor": 2
}
