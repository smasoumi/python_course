{
 "cells": [
  {
   "cell_type": "markdown",
   "metadata": {},
   "source": [
    "- Without parentheses: You get the entire match as a single unit.\n",
    "\n",
    "- With parentheses: You can extract and manipulate specific parts of the match using captured groups."
   ]
  },
  {
   "cell_type": "markdown",
   "metadata": {},
   "source": [
    "# extract only numbers"
   ]
  },
  {
   "cell_type": "code",
   "execution_count": 56,
   "metadata": {},
   "outputs": [
    {
     "name": "stdout",
     "output_type": "stream",
     "text": [
      "['412889912', '9912']\n"
     ]
    }
   ],
   "source": [
    "import re\n",
    "text = 'I have a problem with my order which has number 412889912. (short order #9912)'\n",
    "# pattern = 'order[^0-9]*([0-9]*)'\n",
    "pattern = r'order[^\\d]*(\\d*)'\n",
    "output = re.findall(pattern, text)\n",
    "print(output)"
   ]
  },
  {
   "cell_type": "markdown",
   "metadata": {},
   "source": [
    "# iterate over result and use group"
   ]
  },
  {
   "cell_type": "code",
   "execution_count": 46,
   "metadata": {},
   "outputs": [
    {
     "name": "stdout",
     "output_type": "stream",
     "text": [
      "Full match: order1234 ->  Captured digits: 1234\n",
      "Full match: order ABCD 5678 ->  Captured digits: 5678\n",
      "Full match: orderXYZ000 ->  Captured digits: 000\n"
     ]
    }
   ],
   "source": [
    "import re\n",
    "\n",
    "pattern = r'order[^\\d]*(\\d*)'\n",
    "\n",
    "test_string = \"This is an order1234 and another order ABCD 5678 and orderXYZ000\"\n",
    "\n",
    "matches = re.finditer(pattern, test_string)\n",
    "\n",
    "for match in matches:\n",
    "    print(f\"Full match: {match.group(0)} -> \", f\"Captured digits: {match.group(1)}\")"
   ]
  },
  {
   "cell_type": "markdown",
   "metadata": {},
   "source": [
    "# extract profile info (example)"
   ]
  },
  {
   "cell_type": "code",
   "execution_count": 59,
   "metadata": {},
   "outputs": [],
   "source": [
    "text='''\n",
    "Born\tElon Reeve Musk\n",
    "June 28, 1971 (age 50)\n",
    "Pretoria, Transvaal, South Africa\n",
    "Citizenship\t\n",
    "South Africa (1971–present)\n",
    "Canada (1971–present)\n",
    "United States (2002–present)\n",
    "Education\tUniversity of Pennsylvania (BS, BA)\n",
    "Title\t\n",
    "Founder, CEO and Chief Engineer of SpaceX\n",
    "CEO and product architect of Tesla, Inc.\n",
    "Founder of The Boring Company and X.com (now part of PayPal)\n",
    "Co-founder of Neuralink, OpenAI, and Zip2\n",
    "Spouse(s)\t\n",
    "Justine Wilson\n",
    "​\n",
    "​(m. 2000; div. 2008)​\n",
    "Talulah Riley\n",
    "​\n",
    "​(m. 2010; div. 2012)​\n",
    "​\n",
    "​(m. 2013; div. 2016)\n",
    "'''"
   ]
  },
  {
   "cell_type": "markdown",
   "metadata": {},
   "source": [
    "find name"
   ]
  },
  {
   "cell_type": "code",
   "execution_count": 60,
   "metadata": {},
   "outputs": [
    {
     "data": {
      "text/plain": [
       "['Elon Reeve Musk']"
      ]
     },
     "execution_count": 60,
     "metadata": {},
     "output_type": "execute_result"
    }
   ],
   "source": [
    "re.findall('Born[\\t]*(.*)\\n',text)"
   ]
  },
  {
   "cell_type": "markdown",
   "metadata": {},
   "source": [
    "find birthdate"
   ]
  },
  {
   "cell_type": "code",
   "execution_count": 61,
   "metadata": {},
   "outputs": [
    {
     "data": {
      "text/plain": [
       "['June 28, 1971']"
      ]
     },
     "execution_count": 61,
     "metadata": {},
     "output_type": "execute_result"
    }
   ],
   "source": [
    "re.findall(r'Born.*\\n(.*) \\(age',text)"
   ]
  },
  {
   "cell_type": "markdown",
   "metadata": {},
   "source": [
    "find age"
   ]
  },
  {
   "cell_type": "code",
   "execution_count": 62,
   "metadata": {},
   "outputs": [
    {
     "data": {
      "text/plain": [
       "['50']"
      ]
     },
     "execution_count": 62,
     "metadata": {},
     "output_type": "execute_result"
    }
   ],
   "source": [
    "re.findall(r'age (\\d+)',text)"
   ]
  },
  {
   "cell_type": "markdown",
   "metadata": {},
   "source": [
    "find birthplace"
   ]
  },
  {
   "cell_type": "code",
   "execution_count": 64,
   "metadata": {},
   "outputs": [
    {
     "data": {
      "text/plain": [
       "['Pretoria, Transvaal, South Africa']"
      ]
     },
     "execution_count": 64,
     "metadata": {},
     "output_type": "execute_result"
    }
   ],
   "source": [
    "re.findall(r'age.*\\n(.+)',text)"
   ]
  },
  {
   "cell_type": "markdown",
   "metadata": {},
   "source": [
    "# match"
   ]
  },
  {
   "cell_type": "code",
   "execution_count": 74,
   "metadata": {},
   "outputs": [
    {
     "name": "stdout",
     "output_type": "stream",
     "text": [
      "None\n",
      "<re.Match object; span=(0, 3), match='acb'>\n",
      "<re.Match object; span=(0, 5), match='axyzb'>\n",
      "axyzb\n"
     ]
    }
   ],
   "source": [
    "import re\n",
    "\n",
    "pattern = r'a.+b'\n",
    "\n",
    "# This will match 'a' followed by one or more of any characters and then 'b'\n",
    "test_string1 = \"abxxx\"  # This will not match because there are no characters between 'a' and 'b'\n",
    "test_string2 = \"acbxxx\"\n",
    "test_string3 = \"axyzbxxx\"\n",
    "\n",
    "print(re.match(pattern, test_string1))  # No match\n",
    "print(re.match(pattern, test_string2))  # Matchب\n",
    "print(re.match(pattern, test_string3))  # Match\n",
    "print(re.match(pattern, test_string3).group(0))  # Match\n"
   ]
  },
  {
   "cell_type": "code",
   "execution_count": 89,
   "metadata": {},
   "outputs": [
    {
     "data": {
      "text/plain": [
       "['4.85', '3']"
      ]
     },
     "execution_count": 89,
     "metadata": {},
     "output_type": "execute_result"
    }
   ],
   "source": [
    "text = '''\n",
    "Tesla's gross cost of operating lease vehicles in FY2021 Q1 was $4.85 billion. \n",
    "In previous quarter i.e. FY2020 Q4 it was $3 billion.\n",
    "'''\n",
    "\n",
    "pattern = r'\\$([\\d\\.]+)'\n",
    "matches = re.findall(pattern, text)\n",
    "matches"
   ]
  },
  {
   "cell_type": "markdown",
   "metadata": {},
   "source": [
    "# findall vs search"
   ]
  },
  {
   "cell_type": "markdown",
   "metadata": {},
   "source": [
    "- re.findall(pattern, text) searches for all occurrences of the pattern\n",
    "\n",
    "- re.search(pattern, text) and re.findall(pattern, text)"
   ]
  },
  {
   "cell_type": "code",
   "execution_count": 92,
   "metadata": {},
   "outputs": [
    {
     "data": {
      "text/plain": [
       "<re.Match object; span=(51, 84), match='FY2021 Q1 ljh lsj a 123 was $4.85'>"
      ]
     },
     "execution_count": 92,
     "metadata": {},
     "output_type": "execute_result"
    }
   ],
   "source": [
    "text = '''\n",
    "Tesla's gross cost of operating lease vehicles in FY2021 Q1 ljh lsj a 123 was $4.85 billion. Same number for FY2020 Q4 was $8 billion\n",
    "'''\n",
    "pattern = r'FY(\\d{4} Q[1-4])[^\\$]+\\$([0-9\\.]+)'\n",
    "\n",
    "matches = re.search(pattern, text)\n",
    "matches"
   ]
  },
  {
   "cell_type": "markdown",
   "metadata": {},
   "source": [
    "we can extract more than one information out of text by a single pattern.\n",
    "\n",
    "And access the result by groups method"
   ]
  },
  {
   "cell_type": "code",
   "execution_count": 93,
   "metadata": {},
   "outputs": [
    {
     "data": {
      "text/plain": [
       "('2021 Q1', '4.85')"
      ]
     },
     "execution_count": 93,
     "metadata": {},
     "output_type": "execute_result"
    }
   ],
   "source": [
    "matches.groups()"
   ]
  },
  {
   "cell_type": "markdown",
   "metadata": {},
   "source": [
    "# Exercise: make a regular expression that will match an email"
   ]
  },
  {
   "cell_type": "code",
   "execution_count": 4,
   "metadata": {},
   "outputs": [
    {
     "name": "stdout",
     "output_type": "stream",
     "text": [
      "Pass\n",
      "Pass\n",
      "Pass\n"
     ]
    }
   ],
   "source": [
    "import re\n",
    "def test_email(your_pattern):\n",
    "    pattern = re.compile(your_pattern)\n",
    "    emails = [\"john@example.com\", \"python-list@python.org\", \"wha.t.`1an?ug{}ly@email.com\"]\n",
    "    for email in emails:\n",
    "        if not re.match(pattern, email):\n",
    "            print(\"You failed to match %s\" % (email))\n",
    "        elif not your_pattern:\n",
    "            print(\"Forgot to enter a pattern!\")\n",
    "        else:\n",
    "            print(\"Pass\")\n",
    "# Your pattern here!\n",
    "pattern = r\"\\\"?([-a-zA-Z0-9.`?{}]+@\\w+\\.\\w+)\\\"?\"\n",
    "test_email(pattern)"
   ]
  },
  {
   "cell_type": "markdown",
   "metadata": {},
   "source": [
    "Explanation of the Pattern\n",
    "\n",
    "- \\\"?:\n",
    "    - This matches an optional double quote character (\").\n",
    "    - The \\ is an escape character to indicate that the double quote should be treated as a literal character.\n",
    "    - The ? means that the preceding character (the double quote in this case) is optional and can appear 0 or 1 time.\n",
    "- ([-a-zA-Z0-9.?{}]+)`:\n",
    "    - This is a capturing group denoted by the parentheses (...).\n",
    "    - Inside the capturing group, we have a character class [-a-zA-Z0-9.?{}]`:\n",
    "        - -a-zA-Z0-9.: This matches any of the characters in the ranges a-z, A-Z, 0-9, as well as the characters . (dot) and - (hyphen).\n",
    "        - ?{}: These characters are included in the character class and can be matched as part of the email username.\n",
    "    - The + outside the character class means that one or more of the preceding characters can be matched.\n",
    "- @:\n",
    "\n",
    "    - This matches the @ symbol, which is mandatory in an email address.\n",
    "\n",
    "- \\w+:\n",
    "\n",
    "    - This matches one or more word characters (alphanumeric characters plus underscore). It represents the domain part of the email address right after the @ symbol.\n",
    "\n",
    "- \\.:\n",
    "\n",
    "    - This matches a literal dot (.) character in the domain name.\n",
    "\n",
    "    - The \\ is an escape character to indicate that the dot should be treated as a literal character rather than a special regex character.\n",
    "\n",
    "- \\w+:\n",
    "\n",
    "    - This matches one or more word characters (alphanumeric characters plus underscore) after the dot in the domain name, representing the top-level domain (e.g., com, org, net).\n",
    "\n",
    "- \\\"?:\n",
    "\n",
    "    - This matches an optional double quote character (\"), similar to the initial part of the regex."
   ]
  },
  {
   "cell_type": "markdown",
   "metadata": {},
   "source": []
  }
 ],
 "metadata": {
  "kernelspec": {
   "display_name": "pytorch",
   "language": "python",
   "name": "python3"
  },
  "language_info": {
   "codemirror_mode": {
    "name": "ipython",
    "version": 3
   },
   "file_extension": ".py",
   "mimetype": "text/x-python",
   "name": "python",
   "nbconvert_exporter": "python",
   "pygments_lexer": "ipython3",
   "version": "3.12.3"
  }
 },
 "nbformat": 4,
 "nbformat_minor": 2
}
