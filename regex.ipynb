{
 "cells": [
  {
   "cell_type": "code",
   "execution_count": 1,
   "metadata": {},
   "outputs": [
    {
     "name": "stdout",
     "output_type": "stream",
     "text": [
      "<re.Match object; span=(35, 39), match='[on]'>\n",
      "None\n"
     ]
    }
   ],
   "source": [
    "# Example: \n",
    "import re\n",
    "pattern = re.compile(r\"\\[(on|off)\\]\") # Slight optimization\n",
    "print(re.search(pattern, \"Mono: Playback 65 [75%] [-16.50dB] [on]\"))\n",
    "# Returns a Match object!\n",
    "print(re.search(pattern, \"Nada...:-(\"))\n",
    "# Doesn't return anything.\n",
    "# End Example\n",
    "\n"
   ]
  },
  {
   "cell_type": "code",
   "execution_count": 4,
   "metadata": {},
   "outputs": [
    {
     "name": "stdout",
     "output_type": "stream",
     "text": [
      "Pass\n",
      "Pass\n",
      "Pass\n"
     ]
    }
   ],
   "source": [
    "# Exercise: make a regular expression that will match an email\n",
    "import re\n",
    "def test_email(your_pattern):\n",
    "    pattern = re.compile(your_pattern)\n",
    "    emails = [\"john@example.com\", \"python-list@python.org\", \"wha.t.`1an?ug{}ly@email.com\"]\n",
    "    for email in emails:\n",
    "        if not re.match(pattern, email):\n",
    "            print(\"You failed to match %s\" % (email))\n",
    "        elif not your_pattern:\n",
    "            print(\"Forgot to enter a pattern!\")\n",
    "        else:\n",
    "            print(\"Pass\")\n",
    "# Your pattern here!\n",
    "pattern = r\"\\\"?([-a-zA-Z0-9.`?{}]+@\\w+\\.\\w+)\\\"?\"\n",
    "test_email(pattern)"
   ]
  },
  {
   "cell_type": "markdown",
   "metadata": {},
   "source": [
    "Explanation of the Pattern\n",
    "\n",
    "- \\\"?:\n",
    "    - This matches an optional double quote character (\").\n",
    "    - The \\ is an escape character to indicate that the double quote should be treated as a literal character.\n",
    "    - The ? means that the preceding character (the double quote in this case) is optional and can appear 0 or 1 time.\n",
    "- ([-a-zA-Z0-9.?{}]+)`:\n",
    "    - This is a capturing group denoted by the parentheses (...).\n",
    "    - Inside the capturing group, we have a character class [-a-zA-Z0-9.?{}]`:\n",
    "        - -a-zA-Z0-9.: This matches any of the characters in the ranges a-z, A-Z, 0-9, as well as the characters . (dot) and - (hyphen).\n",
    "        - ?{}: These characters are included in the character class and can be matched as part of the email username.\n",
    "    - The + outside the character class means that one or more of the preceding characters can be matched.\n",
    "- @:\n",
    "\n",
    "    - This matches the @ symbol, which is mandatory in an email address.\n",
    "\n",
    "- \\w+:\n",
    "\n",
    "    - This matches one or more word characters (alphanumeric characters plus underscore). It represents the domain part of the email address right after the @ symbol.\n",
    "\n",
    "- \\.:\n",
    "\n",
    "    - This matches a literal dot (.) character in the domain name.\n",
    "\n",
    "    - The \\ is an escape character to indicate that the dot should be treated as a literal character rather than a special regex character.\n",
    "\n",
    "- \\w+:\n",
    "\n",
    "    - This matches one or more word characters (alphanumeric characters plus underscore) after the dot in the domain name, representing the top-level domain (e.g., com, org, net).\n",
    "\n",
    "- \\\"?:\n",
    "\n",
    "    - This matches an optional double quote character (\"), similar to the initial part of the regex."
   ]
  },
  {
   "cell_type": "markdown",
   "metadata": {},
   "source": []
  }
 ],
 "metadata": {
  "kernelspec": {
   "display_name": "pytorch",
   "language": "python",
   "name": "python3"
  },
  "language_info": {
   "codemirror_mode": {
    "name": "ipython",
    "version": 3
   },
   "file_extension": ".py",
   "mimetype": "text/x-python",
   "name": "python",
   "nbconvert_exporter": "python",
   "pygments_lexer": "ipython3",
   "version": "3.12.3"
  }
 },
 "nbformat": 4,
 "nbformat_minor": 2
}
